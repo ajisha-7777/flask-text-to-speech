{
 "cells": [
  {
   "cell_type": "code",
   "execution_count": 1,
   "metadata": {},
   "outputs": [],
   "source": [
    "\n",
    "from moviepy.config import change_settings\n",
    "change_settings({\"IMAGEMAGICK_BINARY\": r\"C:\\Program Files\\ImageMagick-7.1.1-Q16\\magick.exe\"})"
   ]
  },
  {
   "cell_type": "code",
   "execution_count": null,
   "metadata": {},
   "outputs": [],
   "source": []
  },
  {
   "cell_type": "code",
   "execution_count": null,
   "metadata": {},
   "outputs": [
    {
     "ename": "",
     "evalue": "",
     "output_type": "error",
     "traceback": [
      "\u001b[1;31mThe Kernel crashed while executing code in the current cell or a previous cell. \n",
      "\u001b[1;31mPlease review the code in the cell(s) to identify a possible cause of the failure. \n",
      "\u001b[1;31mClick <a href='https://aka.ms/vscodeJupyterKernelCrash'>here</a> for more info. \n",
      "\u001b[1;31mView Jupyter <a href='command:jupyter.viewOutput'>log</a> for further details."
     ]
    }
   ],
   "source": [
    "exit()\n"
   ]
  },
  {
   "cell_type": "code",
   "execution_count": 7,
   "metadata": {},
   "outputs": [],
   "source": [
    "from moviepy.config import change_settings\n",
    "change_settings({\"IMAGEMAGICK_BINARY\": r\"C:\\Program Files\\ImageMagick-7.1.1-Q16\\magick.exe\"})"
   ]
  },
  {
   "cell_type": "code",
   "execution_count": 8,
   "metadata": {},
   "outputs": [
    {
     "ename": "ValueError",
     "evalue": "Attribute 'duration' not set",
     "output_type": "error",
     "traceback": [
      "\u001b[31m---------------------------------------------------------------------------\u001b[39m",
      "\u001b[31mValueError\u001b[39m                                Traceback (most recent call last)",
      "\u001b[36mCell\u001b[39m\u001b[36m \u001b[39m\u001b[32mIn[8]\u001b[39m\u001b[32m, line 4\u001b[39m\n\u001b[32m      1\u001b[39m \u001b[38;5;28;01mfrom\u001b[39;00m\u001b[38;5;250m \u001b[39m\u001b[34;01mmoviepy\u001b[39;00m\u001b[34;01m.\u001b[39;00m\u001b[34;01meditor\u001b[39;00m\u001b[38;5;250m \u001b[39m\u001b[38;5;28;01mimport\u001b[39;00m TextClip\n\u001b[32m      3\u001b[39m txt_clip = TextClip(\u001b[33m\"\u001b[39m\u001b[33mHello, Ajisha!\u001b[39m\u001b[33m\"\u001b[39m, fontsize=\u001b[32m70\u001b[39m, color=\u001b[33m'\u001b[39m\u001b[33mwhite\u001b[39m\u001b[33m'\u001b[39m, font=\u001b[33m'\u001b[39m\u001b[33mArial-Bold\u001b[39m\u001b[33m'\u001b[39m)\n\u001b[32m----> \u001b[39m\u001b[32m4\u001b[39m \u001b[43mtxt_clip\u001b[49m\u001b[43m.\u001b[49m\u001b[43mwrite_videofile\u001b[49m\u001b[43m(\u001b[49m\u001b[33;43m\"\u001b[39;49m\u001b[33;43mtest.mp4\u001b[39;49m\u001b[33;43m\"\u001b[39;49m\u001b[43m,\u001b[49m\u001b[43m \u001b[49m\u001b[43mfps\u001b[49m\u001b[43m=\u001b[49m\u001b[32;43m24\u001b[39;49m\u001b[43m)\u001b[49m\n",
      "\u001b[36mFile \u001b[39m\u001b[32m<decorator-gen-74>:2\u001b[39m, in \u001b[36mwrite_videofile\u001b[39m\u001b[34m(self, filename, fps, codec, bitrate, audio, audio_fps, preset, audio_nbytes, audio_codec, audio_bitrate, audio_bufsize, temp_audiofile, rewrite_audio, remove_temp, write_logfile, verbose, threads, ffmpeg_params, logger)\u001b[39m\n",
      "\u001b[36mFile \u001b[39m\u001b[32mc:\\Users\\ajisha\\AppData\\Local\\Programs\\Python\\Python311\\Lib\\site-packages\\moviepy\\decorators.py:52\u001b[39m, in \u001b[36mrequires_duration\u001b[39m\u001b[34m(f, clip, *a, **k)\u001b[39m\n\u001b[32m     49\u001b[39m \u001b[38;5;250m\u001b[39m\u001b[33;03m\"\"\" Raise an error if the clip has no duration.\"\"\"\u001b[39;00m\n\u001b[32m     51\u001b[39m \u001b[38;5;28;01mif\u001b[39;00m clip.duration \u001b[38;5;129;01mis\u001b[39;00m \u001b[38;5;28;01mNone\u001b[39;00m:\n\u001b[32m---> \u001b[39m\u001b[32m52\u001b[39m     \u001b[38;5;28;01mraise\u001b[39;00m \u001b[38;5;167;01mValueError\u001b[39;00m(\u001b[33m\"\u001b[39m\u001b[33mAttribute \u001b[39m\u001b[33m'\u001b[39m\u001b[33mduration\u001b[39m\u001b[33m'\u001b[39m\u001b[33m not set\u001b[39m\u001b[33m\"\u001b[39m)\n\u001b[32m     53\u001b[39m \u001b[38;5;28;01melse\u001b[39;00m:\n\u001b[32m     54\u001b[39m     \u001b[38;5;28;01mreturn\u001b[39;00m f(clip, *a, **k)\n",
      "\u001b[31mValueError\u001b[39m: Attribute 'duration' not set"
     ]
    }
   ],
   "source": [
    "from moviepy.editor import TextClip\n",
    "\n",
    "txt_clip = TextClip(\"Hello, Ajisha!\", fontsize=70, color='white', font='Arial-Bold')\n",
    "txt_clip.write_videofile(\"test.mp4\", fps=24)\n"
   ]
  },
  {
   "cell_type": "code",
   "execution_count": 6,
   "metadata": {},
   "outputs": [
    {
     "ename": "ValueError",
     "evalue": "Attribute 'duration' not set",
     "output_type": "error",
     "traceback": [
      "\u001b[31m---------------------------------------------------------------------------\u001b[39m",
      "\u001b[31mValueError\u001b[39m                                Traceback (most recent call last)",
      "\u001b[36mCell\u001b[39m\u001b[36m \u001b[39m\u001b[32mIn[6]\u001b[39m\u001b[32m, line 6\u001b[39m\n\u001b[32m      4\u001b[39m \u001b[38;5;28;01mfrom\u001b[39;00m\u001b[38;5;250m \u001b[39m\u001b[34;01mmoviepy\u001b[39;00m\u001b[34;01m.\u001b[39;00m\u001b[34;01meditor\u001b[39;00m\u001b[38;5;250m \u001b[39m\u001b[38;5;28;01mimport\u001b[39;00m TextClip\n\u001b[32m      5\u001b[39m txt_clip = TextClip(\u001b[33m\"\u001b[39m\u001b[33mHello, Ajisha!\u001b[39m\u001b[33m\"\u001b[39m, fontsize=\u001b[32m70\u001b[39m, color=\u001b[33m'\u001b[39m\u001b[33mwhite\u001b[39m\u001b[33m'\u001b[39m, font=\u001b[33m\"\u001b[39m\u001b[33mArial-Bold\u001b[39m\u001b[33m\"\u001b[39m)\n\u001b[32m----> \u001b[39m\u001b[32m6\u001b[39m \u001b[43mtxt_clip\u001b[49m\u001b[43m.\u001b[49m\u001b[43mwrite_videofile\u001b[49m\u001b[43m(\u001b[49m\u001b[33;43m\"\u001b[39;49m\u001b[33;43mtest.mp4\u001b[39;49m\u001b[33;43m\"\u001b[39;49m\u001b[43m,\u001b[49m\u001b[43m \u001b[49m\u001b[43mfps\u001b[49m\u001b[43m=\u001b[49m\u001b[32;43m24\u001b[39;49m\u001b[43m)\u001b[49m\n",
      "\u001b[36mFile \u001b[39m\u001b[32m<decorator-gen-74>:2\u001b[39m, in \u001b[36mwrite_videofile\u001b[39m\u001b[34m(self, filename, fps, codec, bitrate, audio, audio_fps, preset, audio_nbytes, audio_codec, audio_bitrate, audio_bufsize, temp_audiofile, rewrite_audio, remove_temp, write_logfile, verbose, threads, ffmpeg_params, logger)\u001b[39m\n",
      "\u001b[36mFile \u001b[39m\u001b[32mc:\\Users\\ajisha\\AppData\\Local\\Programs\\Python\\Python311\\Lib\\site-packages\\moviepy\\decorators.py:52\u001b[39m, in \u001b[36mrequires_duration\u001b[39m\u001b[34m(f, clip, *a, **k)\u001b[39m\n\u001b[32m     49\u001b[39m \u001b[38;5;250m\u001b[39m\u001b[33;03m\"\"\" Raise an error if the clip has no duration.\"\"\"\u001b[39;00m\n\u001b[32m     51\u001b[39m \u001b[38;5;28;01mif\u001b[39;00m clip.duration \u001b[38;5;129;01mis\u001b[39;00m \u001b[38;5;28;01mNone\u001b[39;00m:\n\u001b[32m---> \u001b[39m\u001b[32m52\u001b[39m     \u001b[38;5;28;01mraise\u001b[39;00m \u001b[38;5;167;01mValueError\u001b[39;00m(\u001b[33m\"\u001b[39m\u001b[33mAttribute \u001b[39m\u001b[33m'\u001b[39m\u001b[33mduration\u001b[39m\u001b[33m'\u001b[39m\u001b[33m not set\u001b[39m\u001b[33m\"\u001b[39m)\n\u001b[32m     53\u001b[39m \u001b[38;5;28;01melse\u001b[39;00m:\n\u001b[32m     54\u001b[39m     \u001b[38;5;28;01mreturn\u001b[39;00m f(clip, *a, **k)\n",
      "\u001b[31mValueError\u001b[39m: Attribute 'duration' not set"
     ]
    }
   ],
   "source": [
    "import os\n",
    "os.environ[\"IMAGEMAGICK_BINARY\"] = r\"C:\\Program Files\\ImageMagick-7.1.1-Q16\\magick.exe\"\n",
    "\n",
    "from moviepy.editor import TextClip\n",
    "txt_clip = TextClip(\"Hello, Ajisha!\", fontsize=70, color='white', font=\"Arial-Bold\")\n",
    "txt_clip.write_videofile(\"test.mp4\", fps=24)\n"
   ]
  },
  {
   "cell_type": "code",
   "execution_count": null,
   "metadata": {},
   "outputs": [],
   "source": [
    "import os\n",
    "from moviepy.editor import TextClip\n",
    "\n",
    "# ImageMagick binary file பாதை குறிப்பிடுதல்\n",
    "os.environ[\"IMAGEMAGICK_BINARY\"] = r\"C:\\Program Files\\ImageMagick-7.1.1-Q16\\magick.exe\"\n",
    "\n",
    "# Text Clip உருவாக்குதல்\n",
    "txt_clip = TextClip(\"Hello, Ajisha!\", fontsize=70, color='white', font=\"Arial-Bold\")\n",
    "\n",
    "# Duration சேர்த்து வீடியோ வடிவம் உருவாக்குதல்\n",
    "txt_clip = txt_clip.set_duration(5)  \n",
    "\n",
    "# வீடியோவை சேமிக்க\n",
    "txt_clip.write_videofile(\"test.mp4\", fps=24)"
   ]
  },
  {
   "cell_type": "code",
   "execution_count": null,
   "metadata": {},
   "outputs": [],
   "source": [
    "import os\n",
    "from fastapi import FastAPI\n",
    "from moviepy.editor import TextClip, CompositeVideoClip, AudioFileClip\n",
    "\n",
    "# ImageMagick path set\n",
    "os.environ[\"IMAGEMAGICK_BINARY\"] = r\"C:\\Program Files\\ImageMagick-7.1.1-Q16\\magick.exe\"\n",
    "\n",
    "app = FastAPI()\n",
    "\n",
    "@app.get(\"/\")\n",
    "def home():\n",
    "    return {\"message\": \"Welcome to the Text-to-Video API!\"}\n",
    "\n",
    "@app.post(\"/generate_video/\")\n",
    "def generate_video(text: str):\n",
    "    try:\n",
    "        # Text Clip Creation\n",
    "        txt_clip = TextClip(text, fontsize=70, color='white', font=\"Arial-Bold\")\n",
    "        txt_clip = txt_clip.set_duration(5).set_position(\"center\")\n",
    "\n",
    "        # Background Color\n",
    "        bg_clip = TextClip(\"\", size=(800, 600), color=\"black\").set_duration(5)\n",
    "\n",
    "        # Combine Text + Background\n",
    "        final_clip = CompositeVideoClip([bg_clip, txt_clip])\n",
    "\n",
    "        # Add Music (Optional)\n",
    "        music_path = \"background.mp3\"  # Change this to your actual audio file\n",
    "        if os.path.exists(music_path):\n",
    "            audio = AudioFileClip(music_path).set_duration(5)\n",
    "            final_clip = final_clip.set_audio(audio)\n",
    "\n",
    "        # Export Video\n",
    "        final_clip.write_videofile(\"output.mp4\", fps=24)\n",
    "\n",
    "        return {\"message\": \"Video created successfully!\", \"video_path\": \"output.mp4\"}\n",
    "    \n",
    "    except Exception as e:\n",
    "        return {\"error\": str(e)}\n"
   ]
  },
  {
   "cell_type": "code",
   "execution_count": 2,
   "metadata": {},
   "outputs": [],
   "source": [
    "import os\n",
    "os.environ[\"IMAGEMAGICK_BINARY\"] = r\"C:\\Program Files\\ImageMagick-7.1.1-Q16\\magick.exe\""
   ]
  },
  {
   "cell_type": "code",
   "execution_count": 3,
   "metadata": {},
   "outputs": [
    {
     "name": "stdout",
     "output_type": "stream",
     "text": [
      "C:\\Program Files\\ImageMagick-7.1.1-Q16\\magick.exe\n"
     ]
    }
   ],
   "source": [
    "import os\n",
    "print(os.environ[\"IMAGEMAGICK_BINARY\"])"
   ]
  },
  {
   "cell_type": "code",
   "execution_count": 4,
   "metadata": {},
   "outputs": [
    {
     "data": {
      "text/plain": [
       "CompletedProcess(args=['magick', '-version'], returncode=1)"
      ]
     },
     "execution_count": 4,
     "metadata": {},
     "output_type": "execute_result"
    }
   ],
   "source": [
    "import subprocess\n",
    "subprocess.run([\"magick\", \"-version\"], shell=True)"
   ]
  },
  {
   "cell_type": "code",
   "execution_count": 5,
   "metadata": {},
   "outputs": [],
   "source": [
    "import os\n",
    "os.environ[\"IMAGEMAGICK_BINARY\"] = r\"C:\\Program Files\\ImageMagick-7.1.1-Q16\\magick.exe\""
   ]
  },
  {
   "cell_type": "code",
   "execution_count": 6,
   "metadata": {},
   "outputs": [
    {
     "name": "stdout",
     "output_type": "stream",
     "text": [
      "C:\\Program Files\\ImageMagick-7.1.1-Q16\\magick.exe\n"
     ]
    }
   ],
   "source": [
    "print(os.environ[\"IMAGEMAGICK_BINARY\"])"
   ]
  },
  {
   "cell_type": "code",
   "execution_count": 7,
   "metadata": {},
   "outputs": [
    {
     "data": {
      "text/plain": [
       "CompletedProcess(args=['C:\\\\Program Files\\\\ImageMagick-7.1.1-Q16\\\\magick.exe', '-version'], returncode=0)"
      ]
     },
     "execution_count": 7,
     "metadata": {},
     "output_type": "execute_result"
    }
   ],
   "source": [
    "import subprocess\n",
    "subprocess.run([r\"C:\\Program Files\\ImageMagick-7.1.1-Q16\\magick.exe\", \"-version\"], shell=True)"
   ]
  },
  {
   "cell_type": "code",
   "execution_count": 1,
   "metadata": {},
   "outputs": [],
   "source": [
    "import os\n",
    "os.environ[\"IMAGEMAGICK_BINARY\"] = r\"C:\\Program Files\\ImageMagick-7.1.1-Q16\\magick.exe\""
   ]
  },
  {
   "cell_type": "code",
   "execution_count": 1,
   "metadata": {},
   "outputs": [
    {
     "ename": "OSError",
     "evalue": "MoviePy Error: creation of None failed because of the following error:\n\n[WinError 2] The system cannot find the file specified.\n\n.This error can be due to the fact that ImageMagick is not installed on your computer, or (for Windows users) that you didn't specify the path to the ImageMagick binary in file conf.py, or that the path you specified is incorrect",
     "output_type": "error",
     "traceback": [
      "\u001b[31m---------------------------------------------------------------------------\u001b[39m",
      "\u001b[31mFileNotFoundError\u001b[39m                         Traceback (most recent call last)",
      "\u001b[36mFile \u001b[39m\u001b[32mc:\\Users\\ajisha\\AppData\\Local\\Programs\\Python\\Python311\\Lib\\site-packages\\moviepy\\video\\VideoClip.py:1137\u001b[39m, in \u001b[36mTextClip.__init__\u001b[39m\u001b[34m(self, txt, filename, size, color, bg_color, fontsize, font, stroke_color, stroke_width, method, kerning, align, interline, tempfilename, temptxt, transparent, remove_temp, print_cmd)\u001b[39m\n\u001b[32m   1136\u001b[39m \u001b[38;5;28;01mtry\u001b[39;00m:\n\u001b[32m-> \u001b[39m\u001b[32m1137\u001b[39m     \u001b[43msubprocess_call\u001b[49m\u001b[43m(\u001b[49m\u001b[43mcmd\u001b[49m\u001b[43m,\u001b[49m\u001b[43m \u001b[49m\u001b[43mlogger\u001b[49m\u001b[43m=\u001b[49m\u001b[38;5;28;43;01mNone\u001b[39;49;00m\u001b[43m)\u001b[49m\n\u001b[32m   1138\u001b[39m \u001b[38;5;28;01mexcept\u001b[39;00m (\u001b[38;5;167;01mIOError\u001b[39;00m, \u001b[38;5;167;01mOSError\u001b[39;00m) \u001b[38;5;28;01mas\u001b[39;00m err:\n",
      "\u001b[36mFile \u001b[39m\u001b[32mc:\\Users\\ajisha\\AppData\\Local\\Programs\\Python\\Python311\\Lib\\site-packages\\moviepy\\tools.py:46\u001b[39m, in \u001b[36msubprocess_call\u001b[39m\u001b[34m(cmd, logger, errorprint)\u001b[39m\n\u001b[32m     44\u001b[39m     popen_params[\u001b[33m\"\u001b[39m\u001b[33mcreationflags\u001b[39m\u001b[33m\"\u001b[39m] = \u001b[32m0x08000000\u001b[39m\n\u001b[32m---> \u001b[39m\u001b[32m46\u001b[39m proc = \u001b[43msp\u001b[49m\u001b[43m.\u001b[49m\u001b[43mPopen\u001b[49m\u001b[43m(\u001b[49m\u001b[43mcmd\u001b[49m\u001b[43m,\u001b[49m\u001b[43m \u001b[49m\u001b[43m*\u001b[49m\u001b[43m*\u001b[49m\u001b[43mpopen_params\u001b[49m\u001b[43m)\u001b[49m\n\u001b[32m     48\u001b[39m out, err = proc.communicate() \u001b[38;5;66;03m# proc.wait()\u001b[39;00m\n",
      "\u001b[36mFile \u001b[39m\u001b[32mc:\\Users\\ajisha\\AppData\\Local\\Programs\\Python\\Python311\\Lib\\subprocess.py:1026\u001b[39m, in \u001b[36mPopen.__init__\u001b[39m\u001b[34m(self, args, bufsize, executable, stdin, stdout, stderr, preexec_fn, close_fds, shell, cwd, env, universal_newlines, startupinfo, creationflags, restore_signals, start_new_session, pass_fds, user, group, extra_groups, encoding, errors, text, umask, pipesize, process_group)\u001b[39m\n\u001b[32m   1023\u001b[39m             \u001b[38;5;28mself\u001b[39m.stderr = io.TextIOWrapper(\u001b[38;5;28mself\u001b[39m.stderr,\n\u001b[32m   1024\u001b[39m                     encoding=encoding, errors=errors)\n\u001b[32m-> \u001b[39m\u001b[32m1026\u001b[39m     \u001b[38;5;28;43mself\u001b[39;49m\u001b[43m.\u001b[49m\u001b[43m_execute_child\u001b[49m\u001b[43m(\u001b[49m\u001b[43margs\u001b[49m\u001b[43m,\u001b[49m\u001b[43m \u001b[49m\u001b[43mexecutable\u001b[49m\u001b[43m,\u001b[49m\u001b[43m \u001b[49m\u001b[43mpreexec_fn\u001b[49m\u001b[43m,\u001b[49m\u001b[43m \u001b[49m\u001b[43mclose_fds\u001b[49m\u001b[43m,\u001b[49m\n\u001b[32m   1027\u001b[39m \u001b[43m                        \u001b[49m\u001b[43mpass_fds\u001b[49m\u001b[43m,\u001b[49m\u001b[43m \u001b[49m\u001b[43mcwd\u001b[49m\u001b[43m,\u001b[49m\u001b[43m \u001b[49m\u001b[43menv\u001b[49m\u001b[43m,\u001b[49m\n\u001b[32m   1028\u001b[39m \u001b[43m                        \u001b[49m\u001b[43mstartupinfo\u001b[49m\u001b[43m,\u001b[49m\u001b[43m \u001b[49m\u001b[43mcreationflags\u001b[49m\u001b[43m,\u001b[49m\u001b[43m \u001b[49m\u001b[43mshell\u001b[49m\u001b[43m,\u001b[49m\n\u001b[32m   1029\u001b[39m \u001b[43m                        \u001b[49m\u001b[43mp2cread\u001b[49m\u001b[43m,\u001b[49m\u001b[43m \u001b[49m\u001b[43mp2cwrite\u001b[49m\u001b[43m,\u001b[49m\n\u001b[32m   1030\u001b[39m \u001b[43m                        \u001b[49m\u001b[43mc2pread\u001b[49m\u001b[43m,\u001b[49m\u001b[43m \u001b[49m\u001b[43mc2pwrite\u001b[49m\u001b[43m,\u001b[49m\n\u001b[32m   1031\u001b[39m \u001b[43m                        \u001b[49m\u001b[43merrread\u001b[49m\u001b[43m,\u001b[49m\u001b[43m \u001b[49m\u001b[43merrwrite\u001b[49m\u001b[43m,\u001b[49m\n\u001b[32m   1032\u001b[39m \u001b[43m                        \u001b[49m\u001b[43mrestore_signals\u001b[49m\u001b[43m,\u001b[49m\n\u001b[32m   1033\u001b[39m \u001b[43m                        \u001b[49m\u001b[43mgid\u001b[49m\u001b[43m,\u001b[49m\u001b[43m \u001b[49m\u001b[43mgids\u001b[49m\u001b[43m,\u001b[49m\u001b[43m \u001b[49m\u001b[43muid\u001b[49m\u001b[43m,\u001b[49m\u001b[43m \u001b[49m\u001b[43mumask\u001b[49m\u001b[43m,\u001b[49m\n\u001b[32m   1034\u001b[39m \u001b[43m                        \u001b[49m\u001b[43mstart_new_session\u001b[49m\u001b[43m,\u001b[49m\u001b[43m \u001b[49m\u001b[43mprocess_group\u001b[49m\u001b[43m)\u001b[49m\n\u001b[32m   1035\u001b[39m \u001b[38;5;28;01mexcept\u001b[39;00m:\n\u001b[32m   1036\u001b[39m     \u001b[38;5;66;03m# Cleanup if the child failed starting.\u001b[39;00m\n",
      "\u001b[36mFile \u001b[39m\u001b[32mc:\\Users\\ajisha\\AppData\\Local\\Programs\\Python\\Python311\\Lib\\subprocess.py:1538\u001b[39m, in \u001b[36mPopen._execute_child\u001b[39m\u001b[34m(self, args, executable, preexec_fn, close_fds, pass_fds, cwd, env, startupinfo, creationflags, shell, p2cread, p2cwrite, c2pread, c2pwrite, errread, errwrite, unused_restore_signals, unused_gid, unused_gids, unused_uid, unused_umask, unused_start_new_session, unused_process_group)\u001b[39m\n\u001b[32m   1537\u001b[39m \u001b[38;5;28;01mtry\u001b[39;00m:\n\u001b[32m-> \u001b[39m\u001b[32m1538\u001b[39m     hp, ht, pid, tid = \u001b[43m_winapi\u001b[49m\u001b[43m.\u001b[49m\u001b[43mCreateProcess\u001b[49m\u001b[43m(\u001b[49m\u001b[43mexecutable\u001b[49m\u001b[43m,\u001b[49m\u001b[43m \u001b[49m\u001b[43margs\u001b[49m\u001b[43m,\u001b[49m\n\u001b[32m   1539\u001b[39m \u001b[43m                             \u001b[49m\u001b[38;5;66;43;03m# no special security\u001b[39;49;00m\n\u001b[32m   1540\u001b[39m \u001b[43m                             \u001b[49m\u001b[38;5;28;43;01mNone\u001b[39;49;00m\u001b[43m,\u001b[49m\u001b[43m \u001b[49m\u001b[38;5;28;43;01mNone\u001b[39;49;00m\u001b[43m,\u001b[49m\n\u001b[32m   1541\u001b[39m \u001b[43m                             \u001b[49m\u001b[38;5;28;43mint\u001b[39;49m\u001b[43m(\u001b[49m\u001b[38;5;129;43;01mnot\u001b[39;49;00m\u001b[43m \u001b[49m\u001b[43mclose_fds\u001b[49m\u001b[43m)\u001b[49m\u001b[43m,\u001b[49m\n\u001b[32m   1542\u001b[39m \u001b[43m                             \u001b[49m\u001b[43mcreationflags\u001b[49m\u001b[43m,\u001b[49m\n\u001b[32m   1543\u001b[39m \u001b[43m                             \u001b[49m\u001b[43menv\u001b[49m\u001b[43m,\u001b[49m\n\u001b[32m   1544\u001b[39m \u001b[43m                             \u001b[49m\u001b[43mcwd\u001b[49m\u001b[43m,\u001b[49m\n\u001b[32m   1545\u001b[39m \u001b[43m                             \u001b[49m\u001b[43mstartupinfo\u001b[49m\u001b[43m)\u001b[49m\n\u001b[32m   1546\u001b[39m \u001b[38;5;28;01mfinally\u001b[39;00m:\n\u001b[32m   1547\u001b[39m     \u001b[38;5;66;03m# Child is launched. Close the parent's copy of those pipe\u001b[39;00m\n\u001b[32m   1548\u001b[39m     \u001b[38;5;66;03m# handles that only the child should have open.  You need\u001b[39;00m\n\u001b[32m   (...)\u001b[39m\u001b[32m   1551\u001b[39m     \u001b[38;5;66;03m# pipe will not close when the child process exits and the\u001b[39;00m\n\u001b[32m   1552\u001b[39m     \u001b[38;5;66;03m# ReadFile will hang.\u001b[39;00m\n",
      "\u001b[31mFileNotFoundError\u001b[39m: [WinError 2] The system cannot find the file specified",
      "\nDuring handling of the above exception, another exception occurred:\n",
      "\u001b[31mOSError\u001b[39m                                   Traceback (most recent call last)",
      "\u001b[36mCell\u001b[39m\u001b[36m \u001b[39m\u001b[32mIn[1]\u001b[39m\u001b[32m, line 2\u001b[39m\n\u001b[32m      1\u001b[39m \u001b[38;5;28;01mfrom\u001b[39;00m\u001b[38;5;250m \u001b[39m\u001b[34;01mmoviepy\u001b[39;00m\u001b[34;01m.\u001b[39;00m\u001b[34;01meditor\u001b[39;00m\u001b[38;5;250m \u001b[39m\u001b[38;5;28;01mimport\u001b[39;00m TextClip\n\u001b[32m----> \u001b[39m\u001b[32m2\u001b[39m txt_clip = \u001b[43mTextClip\u001b[49m\u001b[43m(\u001b[49m\u001b[33;43m\"\u001b[39;49m\u001b[33;43mHello, Ajisha!\u001b[39;49m\u001b[33;43m\"\u001b[39;49m\u001b[43m,\u001b[49m\u001b[43m \u001b[49m\u001b[43mfontsize\u001b[49m\u001b[43m=\u001b[49m\u001b[32;43m70\u001b[39;49m\u001b[43m,\u001b[49m\u001b[43m \u001b[49m\u001b[43mcolor\u001b[49m\u001b[43m=\u001b[49m\u001b[33;43m'\u001b[39;49m\u001b[33;43mwhite\u001b[39;49m\u001b[33;43m'\u001b[39;49m\u001b[43m,\u001b[49m\u001b[43m \u001b[49m\u001b[43mfont\u001b[49m\u001b[43m=\u001b[49m\u001b[33;43m\"\u001b[39;49m\u001b[33;43mArial-Bold\u001b[39;49m\u001b[33;43m\"\u001b[39;49m\u001b[43m)\u001b[49m\n\u001b[32m      3\u001b[39m txt_clip.write_videofile(\u001b[33m\"\u001b[39m\u001b[33mtest.mp4\u001b[39m\u001b[33m\"\u001b[39m, fps=\u001b[32m24\u001b[39m)\n",
      "\u001b[36mFile \u001b[39m\u001b[32mc:\\Users\\ajisha\\AppData\\Local\\Programs\\Python\\Python311\\Lib\\site-packages\\moviepy\\video\\VideoClip.py:1146\u001b[39m, in \u001b[36mTextClip.__init__\u001b[39m\u001b[34m(self, txt, filename, size, color, bg_color, fontsize, font, stroke_color, stroke_width, method, kerning, align, interline, tempfilename, temptxt, transparent, remove_temp, print_cmd)\u001b[39m\n\u001b[32m   1138\u001b[39m \u001b[38;5;28;01mexcept\u001b[39;00m (\u001b[38;5;167;01mIOError\u001b[39;00m, \u001b[38;5;167;01mOSError\u001b[39;00m) \u001b[38;5;28;01mas\u001b[39;00m err:\n\u001b[32m   1139\u001b[39m     error = (\u001b[33m\"\u001b[39m\u001b[33mMoviePy Error: creation of \u001b[39m\u001b[38;5;132;01m%s\u001b[39;00m\u001b[33m failed because of the \u001b[39m\u001b[33m\"\u001b[39m\n\u001b[32m   1140\u001b[39m              \u001b[33m\"\u001b[39m\u001b[33mfollowing error:\u001b[39m\u001b[38;5;130;01m\\n\u001b[39;00m\u001b[38;5;130;01m\\n\u001b[39;00m\u001b[38;5;132;01m%s\u001b[39;00m\u001b[33m.\u001b[39m\u001b[38;5;130;01m\\n\u001b[39;00m\u001b[38;5;130;01m\\n\u001b[39;00m\u001b[33m.\u001b[39m\u001b[33m\"\u001b[39m % (filename, \u001b[38;5;28mstr\u001b[39m(err))\n\u001b[32m   1141\u001b[39m              + (\u001b[33m\"\u001b[39m\u001b[33mThis error can be due to the fact that ImageMagick \u001b[39m\u001b[33m\"\u001b[39m\n\u001b[32m   (...)\u001b[39m\u001b[32m   1144\u001b[39m                 \u001b[33m\"\u001b[39m\u001b[33mImageMagick binary in file conf.py, or that the path \u001b[39m\u001b[33m\"\u001b[39m\n\u001b[32m   1145\u001b[39m                 \u001b[33m\"\u001b[39m\u001b[33myou specified is incorrect\u001b[39m\u001b[33m\"\u001b[39m))\n\u001b[32m-> \u001b[39m\u001b[32m1146\u001b[39m     \u001b[38;5;28;01mraise\u001b[39;00m \u001b[38;5;167;01mIOError\u001b[39;00m(error)\n\u001b[32m   1148\u001b[39m ImageClip.\u001b[34m__init__\u001b[39m(\u001b[38;5;28mself\u001b[39m, tempfilename, transparent=transparent)\n\u001b[32m   1149\u001b[39m \u001b[38;5;28mself\u001b[39m.txt = txt\n",
      "\u001b[31mOSError\u001b[39m: MoviePy Error: creation of None failed because of the following error:\n\n[WinError 2] The system cannot find the file specified.\n\n.This error can be due to the fact that ImageMagick is not installed on your computer, or (for Windows users) that you didn't specify the path to the ImageMagick binary in file conf.py, or that the path you specified is incorrect"
     ]
    }
   ],
   "source": [
    "from moviepy.editor import TextClip\n",
    "txt_clip = TextClip(\"Hello, Ajisha!\", fontsize=70, color='white', font=\"Arial-Bold\")\n",
    "txt_clip.write_videofile(\"test.mp4\", fps=24)"
   ]
  },
  {
   "cell_type": "code",
   "execution_count": 1,
   "metadata": {},
   "outputs": [
    {
     "name": "stdout",
     "output_type": "stream",
     "text": [
      "Moviepy - Building video test.mp4.\n",
      "Moviepy - Writing video test.mp4\n",
      "\n"
     ]
    },
    {
     "name": "stderr",
     "output_type": "stream",
     "text": [
      "                                                             \r"
     ]
    },
    {
     "name": "stdout",
     "output_type": "stream",
     "text": [
      "Moviepy - Done !\n",
      "Moviepy - video ready test.mp4\n",
      "✅ Video generated successfully!\n"
     ]
    }
   ],
   "source": [
    "import os\n",
    "from moviepy.editor import TextClip\n",
    "\n",
    "# ImageMagick path set pannura\n",
    "os.environ[\"IMAGEMAGICK_BINARY\"] = r\"C:\\Program Files\\ImageMagick-7.1.1-Q16\\magick.exe\"\n",
    "\n",
    "# Video create panna try pannura\n",
    "try:\n",
    "    txt_clip = TextClip(\"Hello, Ajisha! 🎉\", fontsize=70, color='white', font=\"Arial-Bold\")\n",
    "    txt_clip = txt_clip.set_duration(5)  # 5 seconds duration\n",
    "    txt_clip.write_videofile(\"test.mp4\", fps=24)\n",
    "    print(\"✅ Video generated successfully!\")\n",
    "except Exception as e:\n",
    "    print(f\"❌ Error: {e}\")\n"
   ]
  },
  {
   "cell_type": "code",
   "execution_count": 2,
   "metadata": {},
   "outputs": [
    {
     "name": "stdout",
     "output_type": "stream",
     "text": [
      "Moviepy - Building video output.mp4.\n",
      "Moviepy - Writing video output.mp4\n",
      "\n"
     ]
    },
    {
     "name": "stderr",
     "output_type": "stream",
     "text": [
      "                                                              \r"
     ]
    },
    {
     "name": "stdout",
     "output_type": "stream",
     "text": [
      "Moviepy - Done !\n",
      "Moviepy - video ready output.mp4\n",
      "Video saved as output.mp4\n"
     ]
    }
   ],
   "source": [
    "from moviepy.editor import TextClip, CompositeVideoClip\n",
    "\n",
    "def text_to_video(text, output_file=\"output.mp4\", duration=5, fontsize=70, color='white', bg_color='black'):\n",
    "    # Create text clip\n",
    "    txt_clip = TextClip(text, fontsize=fontsize, color=color, font='Arial-Bold', size=(1280, 720), bg_color=bg_color)\n",
    "    txt_clip = txt_clip.set_duration(duration).set_position('center')\n",
    "    \n",
    "    # Create final video\n",
    "    video = CompositeVideoClip([txt_clip])\n",
    "    video.write_videofile(output_file, fps=24)\n",
    "    \n",
    "    print(f\"Video saved as {output_file}\")\n",
    "\n",
    "# Example usage\n",
    "text_to_video(\"Hello, Ajisha! This is your video.\")\n"
   ]
  },
  {
   "cell_type": "code",
   "execution_count": 5,
   "metadata": {},
   "outputs": [
    {
     "name": "stdout",
     "output_type": "stream",
     "text": [
      "Moviepy - Building video cat_walk.mp4.\n",
      "Moviepy - Writing video cat_walk.mp4\n",
      "\n"
     ]
    },
    {
     "name": "stderr",
     "output_type": "stream",
     "text": [
      "                                                               \r"
     ]
    },
    {
     "name": "stdout",
     "output_type": "stream",
     "text": [
      "Moviepy - Done !\n",
      "Moviepy - video ready cat_walk.mp4\n",
      "Moviepy - Building video cat_walk.mp4.\n",
      "Moviepy - Writing video cat_walk.mp4\n",
      "\n"
     ]
    },
    {
     "name": "stderr",
     "output_type": "stream",
     "text": [
      "                                                              \r"
     ]
    },
    {
     "name": "stdout",
     "output_type": "stream",
     "text": [
      "Moviepy - Done !\n",
      "Moviepy - video ready cat_walk.mp4\n",
      "Video saved as cat_walk.mp4\n"
     ]
    }
   ],
   "source": [
    "from moviepy.editor import TextClip, CompositeVideoClip\n",
    "\n",
    "def text_to_video(text, output_file=\"output.mp4\", duration=5, fontsize=70, color='white', bg_color='black'):\n",
    "    # Create text clip\n",
    "    txt_clip = TextClip(text, fontsize=fontsize, color=color, font='Arial-Bold', size=(1280, 720), bg_color=bg_color)\n",
    "    txt_clip = txt_clip.set_duration(duration).set_position('center')\n",
    "from moviepy.editor import ImageClip, CompositeVideoClip\n",
    "\n",
    "def cat_walk_animation(image_path, output_file=\"cat_walk.mp4\", duration=5, fps=24):\n",
    "    # Load cat image\n",
    "    cat_clip = ImageClip(image_path).set_duration(duration)\n",
    "    \n",
    "    # Animate the cat walking from left to right\n",
    "    cat_clip = cat_clip.set_position(lambda t: (t * 200, 300))  # Moves right over time\n",
    "    \n",
    "    # Create final video\n",
    "    video = CompositeVideoClip([txt_clip])\n",
    "    video.write_videofile(output_file, fps=24)\n",
    "    video = CompositeVideoClip([cat_clip], size=(1280, 720))\n",
    "    video.write_videofile(output_file, fps=fps)\n",
    "    \n",
    "    print(f\"Video saved as {output_file}\")\n",
    "\n",
    "# Example usage\n",
    "text_to_video(\"Hello, Ajisha! This is your video.\")\n",
    "cat_walk_animation(\"cat.png\")\n"
   ]
  },
  {
   "cell_type": "code",
   "execution_count": 6,
   "metadata": {},
   "outputs": [
    {
     "name": "stdout",
     "output_type": "stream",
     "text": [
      "Moviepy - Building video cat_walk.mp4.\n",
      "Moviepy - Writing video cat_walk.mp4\n",
      "\n"
     ]
    },
    {
     "name": "stderr",
     "output_type": "stream",
     "text": [
      "                                                              \r"
     ]
    },
    {
     "name": "stdout",
     "output_type": "stream",
     "text": [
      "Moviepy - Done !\n",
      "Moviepy - video ready cat_walk.mp4\n",
      "Video saved as cat_walk.mp4\n"
     ]
    }
   ],
   "source": [
    "from moviepy.editor import ImageClip, CompositeVideoClip\n",
    "\n",
    "def cat_walk_animation(image_path, output_file=\"cat_walk.mp4\", duration=5, fps=24):\n",
    "    # Load cat image\n",
    "    cat_clip = ImageClip(image_path).set_duration(duration)\n",
    "    \n",
    "    # Animate the cat walking from left to right\n",
    "    cat_clip = cat_clip.set_position(lambda t: (t * 200, 300))  # Moves right over time\n",
    "    \n",
    "    # Create final video\n",
    "    video = CompositeVideoClip([cat_clip], size=(1280, 720))\n",
    "    video.write_videofile(output_file, fps=fps)\n",
    "    \n",
    "    print(f\"Video saved as {output_file}\")\n",
    "\n",
    "# Example usage\n",
    "cat_walk_animation(\"cat.png\")\n"
   ]
  },
  {
   "cell_type": "code",
   "execution_count": 7,
   "metadata": {},
   "outputs": [
    {
     "name": "stdout",
     "output_type": "stream",
     "text": [
      "Moviepy - Building video cat_walking.mp4.\n",
      "Moviepy - Writing video cat_walking.mp4\n",
      "\n"
     ]
    },
    {
     "name": "stderr",
     "output_type": "stream",
     "text": [
      "                                                              \r"
     ]
    },
    {
     "name": "stdout",
     "output_type": "stream",
     "text": [
      "Moviepy - Done !\n",
      "Moviepy - video ready cat_walking.mp4\n",
      "Video saved as cat_walking.mp4\n"
     ]
    }
   ],
   "source": [
    "from moviepy.editor import VideoClip, ImageClip, CompositeVideoClip\n",
    "\n",
    "def cat_walking(output_file=\"cat_walking.mp4\", duration=5):\n",
    "    # Load the cat image\n",
    "    cat = ImageClip(\"cat.png\").set_duration(duration)\n",
    "    \n",
    "    # Animate the cat moving from left to right\n",
    "    cat = cat.set_position(lambda t: (t * 200, 300))  # X moves, Y is fixed\n",
    "\n",
    "    # Create video clip\n",
    "    video = CompositeVideoClip([cat], size=(1280, 720))\n",
    "    \n",
    "    # Write to file\n",
    "    video.write_videofile(output_file, fps=24)\n",
    "\n",
    "    print(f\"Video saved as {output_file}\")\n",
    "\n",
    "# Run the function\n",
    "cat_walking()"
   ]
  }
 ],
 "metadata": {
  "kernelspec": {
   "display_name": "Python 3",
   "language": "python",
   "name": "python3"
  },
  "language_info": {
   "codemirror_mode": {
    "name": "ipython",
    "version": 3
   },
   "file_extension": ".py",
   "mimetype": "text/x-python",
   "name": "python",
   "nbconvert_exporter": "python",
   "pygments_lexer": "ipython3",
   "version": "3.11.9"
  }
 },
 "nbformat": 4,
 "nbformat_minor": 2
}
